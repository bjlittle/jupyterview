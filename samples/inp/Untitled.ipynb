{
 "cells": [
  {
   "cell_type": "code",
   "execution_count": 1,
   "id": "11ba4541-ba0e-417d-9c29-c07c20c3c0b0",
   "metadata": {},
   "outputs": [],
   "source": [
    "import meshio"
   ]
  },
  {
   "cell_type": "code",
   "execution_count": 3,
   "id": "01002c26-2fbf-49e0-81a5-07923e1d17c9",
   "metadata": {},
   "outputs": [],
   "source": [
    "filename = 'UUea.inp'\n",
    "mesh = meshio.read(\n",
    "    filename\n",
    ")"
   ]
  },
  {
   "cell_type": "code",
   "execution_count": 4,
   "id": "3388e029-028b-449b-a8ee-46efd74105b3",
   "metadata": {},
   "outputs": [
    {
     "data": {
      "text/plain": [
       "<meshio mesh object>\n",
       "  Number of points: 66\n",
       "  Number of cells:\n",
       "    quad: 50\n",
       "  Point sets: _PickedSet2, _PickedSet7, _PickedSet8, _PickedSet14, _PickedSet15, _PickedSet16, _PickedSet17\n",
       "  Cell sets: _PickedSet2, _PickedSet7, _PickedSet8, _PickedSet14, _PickedSet15, _PickedSet16, _PickedSet17, __PickedSurf12_S3, __PickedSurf13_S2, __PickedSurf18_S3"
      ]
     },
     "execution_count": 4,
     "metadata": {},
     "output_type": "execute_result"
    }
   ],
   "source": [
    "mesh"
   ]
  },
  {
   "cell_type": "code",
   "execution_count": 6,
   "id": "7299f15f-3424-4e40-8e7f-61bad55f3383",
   "metadata": {},
   "outputs": [
    {
     "data": {
      "text/html": [
       "<pre style=\"white-space:pre;overflow-x:auto;line-height:normal;font-family:Menlo,'DejaVu Sans Mono',consolas,'Courier New',monospace\"><span style=\"color: #808000; text-decoration-color: #808000; font-weight: bold\">Warning:</span><span style=\"color: #808000; text-decoration-color: #808000\"> VTU requires 3D points, but 2D points given. Appending </span><span style=\"color: #808000; text-decoration-color: #808000; font-weight: bold\">0</span><span style=\"color: #808000; text-decoration-color: #808000\"> third component.</span>\n",
       "</pre>\n"
      ],
      "text/plain": [
       "\u001b[1;33mWarning:\u001b[0m\u001b[33m VTU requires 3D points, but 2D points given. Appending \u001b[0m\u001b[1;33m0\u001b[0m\u001b[33m third component.\u001b[0m\n"
      ]
     },
     "metadata": {},
     "output_type": "display_data"
    }
   ],
   "source": [
    "mesh.write(\n",
    "    \"foo.vtu\")"
   ]
  },
  {
   "cell_type": "code",
   "execution_count": null,
   "id": "ca141814-e8cd-4ae3-aec6-8fae8441e4e5",
   "metadata": {},
   "outputs": [],
   "source": []
  }
 ],
 "metadata": {
  "kernelspec": {
   "display_name": "Python 3 (ipykernel)",
   "language": "python",
   "name": "python3"
  },
  "language_info": {
   "codemirror_mode": {
    "name": "ipython",
    "version": 3
   },
   "file_extension": ".py",
   "mimetype": "text/x-python",
   "name": "python",
   "nbconvert_exporter": "python",
   "pygments_lexer": "ipython3",
   "version": "3.9.9"
  }
 },
 "nbformat": 4,
 "nbformat_minor": 5
}
