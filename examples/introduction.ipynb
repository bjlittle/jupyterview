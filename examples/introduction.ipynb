{
 "cells": [
  {
   "cell_type": "markdown",
   "metadata": {},
   "source": [
    "# Introduction"
   ]
  },
  {
   "cell_type": "code",
   "execution_count": 1,
   "metadata": {},
   "outputs": [],
   "source": [
    "from jupyter_vtk import VtkWidget\n",
    "w = VtkWidget();\n",
    "# w = VtkWidget()"
   ]
  },
  {
   "cell_type": "code",
   "execution_count": 2,
   "metadata": {},
   "outputs": [
    {
     "data": {
      "text/plain": [
       "[{'file_name': 'disp.0007.vtu',\n",
       "  'full_path': 'F:/WORK/jupyter/jupyter_vtk\\\\VTK/disp.0007.vtu'},\n",
       " {'file_name': 'disp.0006.vtu',\n",
       "  'full_path': 'F:/WORK/jupyter/jupyter_vtk\\\\VTK/disp.0006.vtu'},\n",
       " {'file_name': 'disp.0005.vtu',\n",
       "  'full_path': 'F:/WORK/jupyter/jupyter_vtk\\\\VTK/disp.0005.vtu'}]"
      ]
     },
     "execution_count": 2,
     "metadata": {},
     "output_type": "execute_result"
    }
   ],
   "source": [
    "w.request_file_list"
   ]
  },
  {
   "cell_type": "code",
   "execution_count": null,
   "metadata": {},
   "outputs": [],
   "source": []
  }
 ],
 "metadata": {
  "kernelspec": {
   "display_name": "Python [conda env:jupyter] *",
   "language": "python",
   "name": "conda-env-jupyter-py"
  },
  "language_info": {
   "codemirror_mode": {
    "name": "ipython",
    "version": 3
   },
   "file_extension": ".py",
   "mimetype": "text/x-python",
   "name": "python",
   "nbconvert_exporter": "python",
   "pygments_lexer": "ipython3",
   "version": "3.7.4"
  }
 },
 "nbformat": 4,
 "nbformat_minor": 4
}
