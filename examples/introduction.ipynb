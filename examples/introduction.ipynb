{
 "cells": [
  {
   "cell_type": "markdown",
   "metadata": {},
   "source": [
    "# Introduction"
   ]
  },
  {
   "cell_type": "code",
   "execution_count": 1,
   "metadata": {},
   "outputs": [],
   "source": [
    "from jupyter_vtk import VtkWidget\n",
    "w = VtkWidget();\n",
    "# w = VtkWidget()"
   ]
  },
  {
   "cell_type": "code",
   "execution_count": 2,
   "metadata": {},
   "outputs": [
    {
     "data": {
      "text/plain": [
       "[{'key': '.coveragerc'},\n",
       " {'key': '.gitignore'},\n",
       " {'key': '.npmignore'},\n",
       " {'key': '.travis.yml'},\n",
       " {'key': 'appveyor.yml'},\n",
       " {'key': 'codecov.yml'},\n",
       " {'key': 'jupyter_vtk.json'},\n",
       " {'key': 'LICENSE.txt'},\n",
       " {'key': 'MANIFEST'},\n",
       " {'key': 'MANIFEST.in'},\n",
       " {'key': 'package.json'},\n",
       " {'key': 'pytest.ini'},\n",
       " {'key': 'README.md'},\n",
       " {'key': 'readthedocs.yml'},\n",
       " {'key': 'setup.cfg'},\n",
       " {'key': 'setup.py'},\n",
       " {'key': 'setupbase.py'},\n",
       " {'key': 'tsconfig.json'},\n",
       " {'key': 'webpack.config.js'},\n",
       " {'key': 'yarn-error.log'},\n",
       " {'key': 'yarn.lock'},\n",
       " {'key': 'build/lib/jupyter_vtk/vtkwidget.py'},\n",
       " {'key': 'build/lib/jupyter_vtk/_frontend.py'},\n",
       " {'key': 'build/lib/jupyter_vtk/_version.py'},\n",
       " {'key': 'build/lib/jupyter_vtk/__init__.py'},\n",
       " {'key': 'build/lib/jupyter_vtk/labextension/jupyter_vtk-0.1.0.tgz'},\n",
       " {'key': 'build/lib/jupyter_vtk/nbextension/__init__.py'},\n",
       " {'key': 'build/lib/jupyter_vtk/nbextension/static/index.js'},\n",
       " {'key': 'build/lib/jupyter_vtk/nbextension/static/index.js.map'},\n",
       " {'key': 'build/lib/jupyter_vtk/tests/conftest.py'},\n",
       " {'key': 'build/lib/jupyter_vtk/tests/test_example.py'},\n",
       " {'key': 'build/lib/jupyter_vtk/tests/test_nbextension_path.py'},\n",
       " {'key': 'build/lib/jupyter_vtk/tests/__init__.py'},\n",
       " {'key': 'css/widget.css'},\n",
       " {'key': 'dist/0.index.js'},\n",
       " {'key': 'dist/0.index.js.map'},\n",
       " {'key': 'dist/1.index.js'},\n",
       " {'key': 'dist/1.index.js.map'},\n",
       " {'key': 'dist/1ef633d3a28d0986f63e78a70178d06d.woff'},\n",
       " {'key': 'dist/57b3e708b232fdcb64f9cb115cdda7bb.ttf'},\n",
       " {'key': 'dist/cde033c5d3f24283f7578120bb9dc288.eot'},\n",
       " {'key': 'dist/index.js'},\n",
       " {'key': 'dist/index.js.map'},\n",
       " {'key': 'docs/environment.yml'},\n",
       " {'key': 'docs/make.bat'},\n",
       " {'key': 'docs/Makefile'},\n",
       " {'key': 'docs/source/conf.py'},\n",
       " {'key': 'docs/source/develop-install.rst'},\n",
       " {'key': 'docs/source/index.rst'},\n",
       " {'key': 'docs/source/installing.rst'},\n",
       " {'key': 'docs/source/introduction.rst'},\n",
       " {'key': 'docs/source/examples/index.rst'},\n",
       " {'key': 'docs/source/examples/introduction.nblink'},\n",
       " {'key': 'docs/source/_static/embed-bundle.js'},\n",
       " {'key': 'docs/source/_static/embed-bundle.js.map'},\n",
       " {'key': 'docs/source/_static/helper.js'},\n",
       " {'key': 'examples/introduction.ipynb'},\n",
       " {'key': 'jupyter_vtk/vtkwidget.py'},\n",
       " {'key': 'jupyter_vtk/_frontend.py'},\n",
       " {'key': 'jupyter_vtk/_version.py'},\n",
       " {'key': 'jupyter_vtk/__init__.py'},\n",
       " {'key': 'jupyter_vtk/labextension/jupyter_vtk-0.1.0.tgz'},\n",
       " {'key': 'jupyter_vtk/nbextension/__init__.py'},\n",
       " {'key': 'jupyter_vtk/nbextension/static/index.js'},\n",
       " {'key': 'jupyter_vtk/nbextension/static/index.js.map'},\n",
       " {'key': 'jupyter_vtk/nbextension/static/itk/PolyDataIOs/VTKXMLFileReader.js'},\n",
       " {'key': 'jupyter_vtk/nbextension/static/itk/PolyDataIOs/VTKXMLFileReaderWasm.js'},\n",
       " {'key': 'jupyter_vtk/nbextension/static/itk/PolyDataIOs/VTKXMLFileReaderWasm.wasm'},\n",
       " {'key': 'jupyter_vtk/nbextension/static/itk/WebWorkers/ImageIO.worker.js'},\n",
       " {'key': 'jupyter_vtk/nbextension/static/itk/WebWorkers/MeshIO.worker.js'},\n",
       " {'key': 'jupyter_vtk/nbextension/static/itk/WebWorkers/Pipeline.worker.js'},\n",
       " {'key': 'jupyter_vtk/tests/conftest.py'},\n",
       " {'key': 'jupyter_vtk/tests/test_example.py'},\n",
       " {'key': 'jupyter_vtk/tests/test_nbextension_path.py'},\n",
       " {'key': 'jupyter_vtk/tests/__init__.py'},\n",
       " {'key': 'jupyter_vtk.egg-info/dependency_links.txt'},\n",
       " {'key': 'jupyter_vtk.egg-info/PKG-INFO'},\n",
       " {'key': 'jupyter_vtk.egg-info/requires.txt'},\n",
       " {'key': 'jupyter_vtk.egg-info/SOURCES.txt'},\n",
       " {'key': 'jupyter_vtk.egg-info/top_level.txt'},\n",
       " {'key': 'lib/extension.d.ts'},\n",
       " {'key': 'lib/extension.js'},\n",
       " {'key': 'lib/extension.js.map'},\n",
       " {'key': 'lib/index.d.ts'},\n",
       " {'key': 'lib/index.js'},\n",
       " {'key': 'lib/index.js.map'},\n",
       " {'key': 'lib/itkConfigJupyter.d.ts'},\n",
       " {'key': 'lib/itkConfigJupyter.js'},\n",
       " {'key': 'lib/itkConfigJupyter.js.map'},\n",
       " {'key': 'lib/plugin.d.ts'},\n",
       " {'key': 'lib/plugin.js'},\n",
       " {'key': 'lib/plugin.js.map'},\n",
       " {'key': 'lib/version.d.ts'},\n",
       " {'key': 'lib/version.js'},\n",
       " {'key': 'lib/version.js.map'},\n",
       " {'key': 'lib/widget.d.ts'},\n",
       " {'key': 'lib/widget.js'},\n",
       " {'key': 'lib/widget.js.map'},\n",
       " {'key': 'lib/redux/actions.d.ts'},\n",
       " {'key': 'lib/redux/actions.js'},\n",
       " {'key': 'lib/redux/actions.js.map'},\n",
       " {'key': 'lib/redux/reducers.d.ts'},\n",
       " {'key': 'lib/redux/reducers.js'},\n",
       " {'key': 'lib/redux/reducers.js.map'},\n",
       " {'key': 'lib/redux/tools.d.ts'},\n",
       " {'key': 'lib/redux/tools.js'},\n",
       " {'key': 'lib/redux/tools.js.map'},\n",
       " {'key': 'lib/redux/types.d.ts'},\n",
       " {'key': 'lib/redux/types.js'},\n",
       " {'key': 'lib/redux/types.js.map'},\n",
       " {'key': 'lib/tools/getOption.d.ts'},\n",
       " {'key': 'lib/tools/getOption.js'},\n",
       " {'key': 'lib/tools/getOption.js.map'},\n",
       " {'key': 'lib/vtk_components/main.d.ts'},\n",
       " {'key': 'lib/vtk_components/main.js'},\n",
       " {'key': 'lib/vtk_components/main.js.map'},\n",
       " {'key': 'lib/vtk_components/panel.d.ts'},\n",
       " {'key': 'lib/vtk_components/panel.js'},\n",
       " {'key': 'lib/vtk_components/panel.js.map'},\n",
       " {'key': 'lib/vtk_components/vtkwidget.d.ts'},\n",
       " {'key': 'lib/vtk_components/vtkwidget.js'},\n",
       " {'key': 'lib/vtk_components/vtkwidget.js.map'},\n",
       " {'key': 'src/extension.ts'},\n",
       " {'key': 'src/index.ts'},\n",
       " {'key': 'src/itkConfigJupyter.ts'},\n",
       " {'key': 'src/plugin.ts'},\n",
       " {'key': 'src/version.ts'},\n",
       " {'key': 'src/widget.tsx'},\n",
       " {'key': 'src/redux/actions.ts'},\n",
       " {'key': 'src/redux/reducers.ts'},\n",
       " {'key': 'src/redux/tools.ts'},\n",
       " {'key': 'src/redux/types.ts'},\n",
       " {'key': 'src/tools/getOption.ts'},\n",
       " {'key': 'src/vtk_components/main.tsx'},\n",
       " {'key': 'src/vtk_components/panel.tsx'},\n",
       " {'key': 'src/vtk_components/vtkwidget.tsx'},\n",
       " {'key': 'tests/karma.conf.js'},\n",
       " {'key': 'tests/tsconfig.json'},\n",
       " {'key': 'tests/src/index.spec.ts'},\n",
       " {'key': 'tests/src/utils.spec.ts'}]"
      ]
     },
     "execution_count": 2,
     "metadata": {},
     "output_type": "execute_result"
    }
   ],
   "source": [
    "w.root_data"
   ]
  },
  {
   "cell_type": "code",
   "execution_count": 4,
   "metadata": {},
   "outputs": [
    {
     "data": {
      "text/plain": [
       "'F:/WORK/jupyter/jupyter_vtk'"
      ]
     },
     "execution_count": 4,
     "metadata": {},
     "output_type": "execute_result"
    }
   ],
   "source": [
    "w.rootPath"
   ]
  },
  {
   "cell_type": "code",
   "execution_count": null,
   "metadata": {},
   "outputs": [],
   "source": []
  }
 ],
 "metadata": {
  "kernelspec": {
   "display_name": "Python [conda env:jupyter] *",
   "language": "python",
   "name": "conda-env-jupyter-py"
  },
  "language_info": {
   "codemirror_mode": {
    "name": "ipython",
    "version": 3
   },
   "file_extension": ".py",
   "mimetype": "text/x-python",
   "name": "python",
   "nbconvert_exporter": "python",
   "pygments_lexer": "ipython3",
   "version": "3.7.4"
  }
 },
 "nbformat": 4,
 "nbformat_minor": 4
}
